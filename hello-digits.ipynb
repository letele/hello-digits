{
 "cells": [
  {
   "cell_type": "code",
   "execution_count": 1,
   "id": "93941e90-2ea6-4f24-b759-145559307280",
   "metadata": {},
   "outputs": [],
   "source": [
    "import imageio as im \n",
    "import numpy as np\n",
    "import matplotlib.pyplot as plt\n",
    "%matplotlib inline"
   ]
  },
  {
   "cell_type": "code",
   "execution_count": 2,
   "id": "f561feb2-d15a-49ff-9855-dd3b00598b71",
   "metadata": {},
   "outputs": [],
   "source": [
    "from nn.network import Neural_Network\n",
    "from nn.activation import Sigmoid"
   ]
  },
  {
   "cell_type": "code",
   "execution_count": 3,
   "id": "e75f7b55-fc5d-4c88-b57f-2ad294268e86",
   "metadata": {},
   "outputs": [],
   "source": [
    "#read mnist train\n",
    "path_train = \"mnist_dataset/mnist_train.csv\"\n",
    "with open(path_train) as f:\n",
    "    mnist_train = list(f)\n",
    "    \n",
    "#read mnist test \n",
    "path_test = \"mnist_dataset/mnist_test.csv\"\n",
    "with open(path_test) as f:\n",
    "    mnist_test = list(f)"
   ]
  },
  {
   "cell_type": "code",
   "execution_count": 4,
   "id": "0b01af26-cba8-4ca3-bcf2-e49d6b68f4b1",
   "metadata": {},
   "outputs": [],
   "source": [
    "# functions that prepare mnist dataset \n",
    "\n",
    "# convert csv into float array and exlcude first element\n",
    "str_to_arr =  lambda s: np.asfarray(s.split(',')[1:])\n",
    "\n",
    "# rescale the inputs (0,255) to (0.01, 0.99)\n",
    "rescale_inputs = lambda i: str_to_arr(i)*(0.98/255) + 0.01\n",
    "\n",
    "# create target output values: 0.99 for true value else 0.01\n",
    "def rescale_outputs(record,nodes):\n",
    "    outputs = np.ones(nodes)*0.01\n",
    "    outputs[int(record[0])] = 0.99\n",
    "    \n",
    "    return outputs\n"
   ]
  },
  {
   "cell_type": "code",
   "execution_count": 5,
   "id": "8dc2f441-54ef-428b-abb2-591c8567a891",
   "metadata": {},
   "outputs": [],
   "source": [
    "# inputs nodes are pixel values of each digit: 28 * 28 = 784\n",
    "i_nodes = 784 \n",
    "#hidden nodes are chosen arbitrarily\n",
    "h_nodes = 100\n",
    "#output nodes are 10: 0 to 9\n",
    "o_nodes = 10\n",
    "\n",
    "# create instance of neural network\n",
    "mnist_nn = Neural_Network(i_nodes,h_nodes,o_nodes, Sigmoid)"
   ]
  },
  {
   "cell_type": "code",
   "execution_count": 6,
   "id": "4bbd6838-ad29-4774-95af-f09c7c408fca",
   "metadata": {},
   "outputs": [],
   "source": [
    "# function that trains network\n",
    "def train(network, epochs, l_rate):\n",
    "    for epoch in range(epochs):\n",
    "        for record in mnist_train:\n",
    "            inputs = rescale_inputs(record)\n",
    "            targets = rescale_outputs(record,o_nodes)\n",
    "            network.backward_propagation(inputs, targets,l_rate) "
   ]
  },
  {
   "cell_type": "code",
   "execution_count": 7,
   "id": "1269f4dc-1cd4-4b6e-aba5-d640e9306bfe",
   "metadata": {},
   "outputs": [],
   "source": [
    "epochs, l_rate  = 1, 0.1\n",
    "train(mnist_nn, epochs, l_rate)\n",
    "epochs, l_rate  = 1, 0.05\n",
    "train(mnist_nn, epochs, l_rate)"
   ]
  },
  {
   "cell_type": "code",
   "execution_count": 8,
   "id": "493f8f15-d0fd-4ecd-8d4e-1f13a6d15f73",
   "metadata": {},
   "outputs": [
    {
     "name": "stdout",
     "output_type": "stream",
     "text": [
      "Correct predictions: 9642\n",
      "Incorrect predictions: 358\n",
      "Performance: 96.42%\n",
      "Error: 3.58%\n"
     ]
    }
   ],
   "source": [
    "#test the network\n",
    "#scorecard of how well network performs\n",
    "scorecard = []\n",
    "\n",
    "for record in mnist_test:\n",
    "    correct_label = int(record.split(',')[0])\n",
    "    # print(f'correct label: {correct_label}')\n",
    "    prediction = mnist_nn.foward_propagation(rescale_inputs(record))[2].flatten().argmax()\n",
    "    # print(f'predicted label: {prediction}')\n",
    "    # print('---')\n",
    "    scorecard.append(correct_label==prediction)\n",
    "\n",
    "perc = np.count_nonzero(scorecard) / len(scorecard) *100\n",
    "\n",
    "print(f'Correct predictions: {np.count_nonzero(scorecard)}')\n",
    "print(f'Incorrect predictions: {np.count_nonzero(np.invert(scorecard))}')\n",
    "print(f'Performance: {perc:.2f}%')\n",
    "print(f'Error: {100 - perc:.2f}%')"
   ]
  },
  {
   "cell_type": "code",
   "execution_count": 9,
   "id": "8318aa53-df41-4386-b836-6a61ccc2eaa8",
   "metadata": {},
   "outputs": [
    {
     "data": {
      "image/png": "[encoded data removed]",
      "text/plain": [
       "<Figure size 640x480 with 10 Axes>"
      ]
     },
     "metadata": {},
     "output_type": "display_data"
    }
   ],
   "source": [
    "fig, axes =  fig, axes = plt.subplots(2, 5)\n",
    "digits = ['zero','one','two','three', 'four','five','six','seven','eight','nine']\n",
    "\n",
    "\n",
    "for i in range(len(digits)):\n",
    "    img_array = im.v2.imread(f'imgs/{digits[i]}.png',as_gray=True)\n",
    "    img_data = 255.0 - img_array.reshape(784)\n",
    "    img_data = (img_data/255 * 0.98) + 0.01\n",
    "    if i <= 4: \n",
    "        axes[0, i].imshow(img_data.reshape(28,28), cmap='Greys', interpolation='None')\n",
    "        axes[0,i].set_title(f'pred: {mnist_nn.foward_propagation(img_data)[2].flatten().argmax()}')\n",
    "        axes[0,i].set_xticks([])\n",
    "        axes[0,i].set_yticks([])\n",
    "    else:\n",
    "        axes[1, i-5].imshow(img_data.reshape(28,28), cmap='Greys', interpolation='None')\n",
    "        axes[1,i-5].set_title(f'pred : {mnist_nn.foward_propagation(img_data)[2].flatten().argmax()}')\n",
    "        axes[1,i-5].set_xticks([])\n",
    "        axes[1,i-5].set_yticks([])"
   ]
  },
  {
   "cell_type": "code",
   "execution_count": null,
   "id": "d751c204-9db2-4ca6-98cb-4d84172eae7a",
   "metadata": {},
   "outputs": [],
   "source": []
  },
  {
   "cell_type": "code",
   "execution_count": null,
   "id": "2606e8f1-d322-41bd-b821-11b497591bdd",
   "metadata": {},
   "outputs": [],
   "source": []
  },
  {
   "cell_type": "code",
   "execution_count": null,
   "id": "7ca7d0a3-8895-4c16-bace-9c67d2552463",
   "metadata": {},
   "outputs": [],
   "source": []
  }
 ],
 "metadata": {
  "kernelspec": {
   "display_name": "Python 3 (ipykernel)",
   "language": "python",
   "name": "python3"
  },
  "language_info": {
   "codemirror_mode": {
    "name": "ipython",
    "version": 3
   },
   "file_extension": ".py",
   "mimetype": "text/x-python",
   "name": "python",
   "nbconvert_exporter": "python",
   "pygments_lexer": "ipython3",
   "version": "3.7.5"
  }
 },
 "nbformat": 4,
 "nbformat_minor": 5
}
